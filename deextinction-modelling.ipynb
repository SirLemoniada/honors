{
 "cells": [
  {
   "cell_type": "code",
   "execution_count": 2,
   "id": "33f304e0",
   "metadata": {},
   "outputs": [],
   "source": [
    "import pandas as pd\n",
    "import numpy as np\n",
    "import networkx as nx\n",
    "import matplotlib.pyplot as plt\n",
    "from pyvis.network import Network\n",
    "from random import randint, randrange, sample"
   ]
  },
  {
   "cell_type": "code",
   "execution_count": 2,
   "id": "568919f6",
   "metadata": {},
   "outputs": [],
   "source": [
    "data4=pd.read_csv('41467_2021_21824_MOESM4_ESM- Supplementary Data 1.csv')\n",
    "data5=pd.read_csv('41467_2021_21824_MOESM5_ESM - Supplementary Data 2.csv')\n",
    "data6=pd.read_csv('41467_2021_21824_MOESM6_ESM.csv',header=1)"
   ]
  },
  {
   "cell_type": "code",
   "execution_count": 82,
   "id": "07ac013f",
   "metadata": {
    "scrolled": true
   },
   "outputs": [],
   "source": [
    "data4_BSQ=data4[data4['System']=='BSQ']\n",
    "data4_EPB=data4[data4['System']=='EPB']\n",
    "data4_CSM=data4[data4['System']=='CSM']\n",
    "\n",
    "data5_BSQ=data5[data5['System']=='BSQ']\n",
    "\n",
    "data6_BSQ=data6[data6['System']=='BSQ']"
   ]
  },
  {
   "cell_type": "code",
   "execution_count": 145,
   "id": "b734b8ac",
   "metadata": {},
   "outputs": [],
   "source": [
    "graph=nx.DiGraph()\n",
    "for n in data4_BSQ['SpeciesID']:\n",
    "    graph.add_node(n)\n",
    "for n in range(len(data5_BSQ['ResourceSpeciesID'])):\n",
    "    graph.add_edge(data5_BSQ['ConsumerSpeciesID'][n],data5_BSQ['ResourceSpeciesID'][n])"
   ]
  },
  {
   "cell_type": "code",
   "execution_count": null,
   "id": "f30b0b0a",
   "metadata": {
    "scrolled": true
   },
   "outputs": [],
   "source": [
    "subax1 = plt.subplot(121)\n",
    "nx.draw(graph, with_labels=True)\n",
    "# subax2 = plt.subplot(122)\n",
    "# nx.draw_shell(graph, with_labels=False)"
   ]
  },
  {
   "cell_type": "code",
   "execution_count": 238,
   "id": "96663899",
   "metadata": {},
   "outputs": [],
   "source": [
    "def alone_no(graph,primary):\n",
    "    a=[]\n",
    "    for i in (graph.nodes()-primary): #list subtraction\n",
    "        if len(graph.adj[i])==0:\n",
    "            a.append(i)\n",
    "    return len(a)\n",
    "\n",
    "def alone_list(graph):\n",
    "    a=[]\n",
    "    for i in graph.nodes():\n",
    "        if len(graph.adj[i])==0:\n",
    "            a.append(i)\n",
    "    return a\n",
    "\n",
    "def not_alone_no(graph,primary):\n",
    "    a=[]\n",
    "    for i in (graph.nodes()-primary): #list subtraction\n",
    "        if len(graph.adj[i])!=0:\n",
    "            a.append(i)\n",
    "    return len(a)\n",
    "def is_alone(graph):#add recursion \n",
    "    a=[]\n",
    "    for i in (graph.nodes()-primary): #list subtraction\n",
    "        if len(graph.adj[i])==0:\n",
    "            a.append(i)\n",
    "    return a\n",
    "#write recursion function that remembers the neighbors before the node is removed"
   ]
  },
  {
   "cell_type": "code",
   "execution_count": 244,
   "id": "f9fe5cf3",
   "metadata": {},
   "outputs": [
    {
     "data": {
      "text/plain": [
       "[<matplotlib.lines.Line2D at 0x7f2a3b62ff40>]"
      ]
     },
     "execution_count": 244,
     "metadata": {},
     "output_type": "execute_result"
    },
    {
     "data": {
      "image/png": "[encoded data removed]",
      "text/plain": [
       "<Figure size 432x288 with 1 Axes>"
      ]
     },
     "metadata": {
      "needs_background": "light"
     },
     "output_type": "display_data"
    }
   ],
   "source": [
    "#obtaining number of species that are not extinct (y), by total number of ar\n",
    "\n",
    "graph=nx.DiGraph()\n",
    "for n in data4_BSQ['SpeciesID']:\n",
    "    graph.add_node(n)\n",
    "for n in range(len(data5_BSQ['ResourceSpeciesID'])):\n",
    "    graph.add_edge(data5_BSQ['ConsumerSpeciesID'][n],data5_BSQ['ResourceSpeciesID'][n])\n",
    "\n",
    "to_remove=sample(data4_BSQ['SpeciesID'].tolist(),len(data4_BSQ))        \n",
    "\n",
    "\n",
    "    \n",
    "alone=[]\n",
    "primary=alone_list(graph)\n",
    "for elem in to_remove:\n",
    "    if elem in graph.nodes():\n",
    "        graph.remove_node(elem)\n",
    "        alone.append(not_alone_no(graph,primary))\n",
    "        graph.remove_nodes_from(is_alone(graph))\n",
    "\n",
    "plt.plot(alone)"
   ]
  },
  {
   "cell_type": "code",
   "execution_count": 233,
   "id": "7f35d2fd",
   "metadata": {},
   "outputs": [
    {
     "data": {
      "text/plain": [
       "[<matplotlib.lines.Line2D at 0x7f2a3b86f6d0>]"
      ]
     },
     "execution_count": 233,
     "metadata": {},
     "output_type": "execute_result"
    },
    {
     "data": {
      "image/png": "[encoded data removed]",
      "text/plain": [
       "<Figure size 432x288 with 1 Axes>"
      ]
     },
     "metadata": {
      "needs_background": "light"
     },
     "output_type": "display_data"
    }
   ],
   "source": [
    "#obtaining number of species that are not extinct (y), by total number of ar\n",
    "\n",
    "graph=nx.DiGraph()\n",
    "for n in data4_BSQ['SpeciesID']:\n",
    "    graph.add_node(n)\n",
    "for n in range(len(data5_BSQ['ResourceSpeciesID'])):\n",
    "    graph.add_edge(data5_BSQ['ConsumerSpeciesID'][n],data5_BSQ['ResourceSpeciesID'][n])\n",
    "\n",
    "to_remove=sample(data4_BSQ['SpeciesID'].tolist(),len(data4_BSQ))        \n",
    "\n",
    "\n",
    "    \n",
    "alone=[]\n",
    "primary=alone_list(graph)\n",
    "for elem in to_remove:\n",
    "    graph.remove_node(elem)\n",
    "    alone.append(not_alone_no(graph,primary)/(len(graph.nodes())+1))\n",
    "    \n",
    "\n",
    "\n",
    "plt.plot(alone)"
   ]
  },
  {
   "cell_type": "code",
   "execution_count": 12,
   "id": "5939e624",
   "metadata": {},
   "outputs": [],
   "source": [
    "def recursion(graph,set):\n",
    "    remove_set=[] #set of nodes that will go extinct\n",
    "    for a in set:\n",
    "        neigh=in_neigh(a) #list of incoming neighbours\n",
    "        for n in neigh:\n",
    "            if len(graph.adj[n])==1: #if the neighbour only feeds on the node we want to remove then add it to the exticnt list\n",
    "                remove_set.append(n)    \n",
    "        if len(remove_set)!=0: #repeat the process through the nodes we will remove to check if others are also affected\n",
    "            remove_set.append(recursion(graph,remove_set))\n",
    "    return remove_set"
   ]
  },
  {
   "cell_type": "code",
   "execution_count": 28,
   "id": "413c0526",
   "metadata": {},
   "outputs": [],
   "source": [
    "def recursion2(graph,set): #for few simple, specific undirected simplifications of directed graphs\n",
    "    remove_set=[]#set of nodes that will go extinct\n",
    "    for a in set:\n",
    "        neigh=graph.adj[a]\n",
    "        for n in neigh:\n",
    "            if len(graph.adj[n])==1: #if the neighbor is only connected to the node we want to remove then add it to the exticnt list\n",
    "                remove_set.append(n)    \n",
    "        if len(remove_set)!=0: #repeat the process through the nodes we will remove to check if others are also affected\n",
    "            remove_set.append(recursion2(graph,remove_set))\n",
    "    return remove_set"
   ]
  },
  {
   "cell_type": "code",
   "execution_count": 2,
   "id": "46ed7125",
   "metadata": {},
   "outputs": [
    {
     "ename": "NameError",
     "evalue": "name 'nx' is not defined",
     "output_type": "error",
     "traceback": [
      "\u001b[1;31m---------------------------------------------------------------------------\u001b[0m",
      "\u001b[1;31mNameError\u001b[0m                                 Traceback (most recent call last)",
      "Cell \u001b[1;32mIn[2], line 1\u001b[0m\n\u001b[1;32m----> 1\u001b[0m graph2\u001b[39m=\u001b[39mnx\u001b[39m.\u001b[39mDiGraph()\n\u001b[0;32m      2\u001b[0m graph2\u001b[39m.\u001b[39madd_nodes_from([\u001b[39m1\u001b[39m,\u001b[39m2\u001b[39m,\u001b[39m3\u001b[39m,\u001b[39m4\u001b[39m,\u001b[39m5\u001b[39m])\n\u001b[0;32m      3\u001b[0m graph2\u001b[39m.\u001b[39madd_edges_from([[\u001b[39m2\u001b[39m,\u001b[39m1\u001b[39m],[\u001b[39m3\u001b[39m,\u001b[39m1\u001b[39m],[\u001b[39m4\u001b[39m,\u001b[39m1\u001b[39m],[\u001b[39m4\u001b[39m,\u001b[39m5\u001b[39m]])\n",
      "\u001b[1;31mNameError\u001b[0m: name 'nx' is not defined"
     ]
    }
   ],
   "source": [
    "graph2=nx.DiGraph()\n",
    "graph2.add_nodes_from([1,2,3,4,5])\n",
    "graph2.add_edges_from([[2,1],[3,1],[4,1],[4,5]])"
   ]
  },
  {
   "cell_type": "code",
   "execution_count": 9,
   "id": "e456c681",
   "metadata": {},
   "outputs": [
    {
     "name": "stdout",
     "output_type": "stream",
     "text": [
      "{1: {2: {}, 3: {}, 4: {}}, 2: {}, 3: {}, 4: {5: {}}, 5: {}}\n"
     ]
    }
   ],
   "source": [
    "print(graph2.adj)"
   ]
  },
  {
   "cell_type": "code",
   "execution_count": null,
   "id": "e934e56d",
   "metadata": {},
   "outputs": [],
   "source": []
  }
 ],
 "metadata": {
  "kernelspec": {
   "display_name": "Python 3 (ipykernel)",
   "language": "python",
   "name": "python3"
  },
  "language_info": {
   "codemirror_mode": {
    "name": "ipython",
    "version": 3
   },
   "file_extension": ".py",
   "mimetype": "text/x-python",
   "name": "python",
   "nbconvert_exporter": "python",
   "pygments_lexer": "ipython3",
   "version": "3.10.7"
  }
 },
 "nbformat": 4,
 "nbformat_minor": 5
}
