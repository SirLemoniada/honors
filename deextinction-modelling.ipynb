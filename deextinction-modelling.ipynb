{
 "cells": [
  {
   "cell_type": "code",
   "execution_count": 1,
   "id": "33f304e0",
   "metadata": {},
   "outputs": [],
   "source": [
    "import pandas as pd\n",
    "import numpy as np\n",
    "import networkx as nx\n",
    "import matplotlib.pyplot as plt\n",
    "from pyvis.network import Network\n",
    "from random import randint, randrange, sample"
   ]
  },
  {
   "cell_type": "code",
   "execution_count": 2,
   "id": "568919f6",
   "metadata": {},
   "outputs": [],
   "source": [
    "data4=pd.read_csv('data/41467_2021_21824_MOESM4_ESM.csv')\n",
    "data5=pd.read_csv('data/41467_2021_21824_MOESM5_ESM.csv')"
   ]
  },
  {
   "cell_type": "code",
   "execution_count": 3,
   "id": "07ac013f",
   "metadata": {
    "scrolled": true
   },
   "outputs": [],
   "source": [
    "data4_BSQ=data4[data4['System']=='BSQ']\n",
    "data4_EPB=data4[data4['System']=='EPB']\n",
    "data4_CSM=data4[data4['System']=='CSM']\n",
    "\n",
    "data5_BSQ=data5[data5['System']=='BSQ']\n"
   ]
  },
  {
   "cell_type": "code",
   "execution_count": 4,
   "id": "f30b0b0a",
   "metadata": {
    "scrolled": true
   },
   "outputs": [
    {
     "ename": "NameError",
     "evalue": "name 'graph' is not defined",
     "output_type": "error",
     "traceback": [
      "\u001b[1;31m---------------------------------------------------------------------------\u001b[0m",
      "\u001b[1;31mNameError\u001b[0m                                 Traceback (most recent call last)",
      "Cell \u001b[1;32mIn[4], line 2\u001b[0m\n\u001b[0;32m      1\u001b[0m subax1 \u001b[39m=\u001b[39m plt\u001b[39m.\u001b[39msubplot(\u001b[39m121\u001b[39m)\n\u001b[1;32m----> 2\u001b[0m nx\u001b[39m.\u001b[39mdraw(graph, with_labels\u001b[39m=\u001b[39m\u001b[39mTrue\u001b[39;00m)\n\u001b[0;32m      3\u001b[0m \u001b[39m# subax2 = plt.subplot(122)\u001b[39;00m\n\u001b[0;32m      4\u001b[0m \u001b[39m# nx.draw_shell(graph, with_labels=False)\u001b[39;00m\n",
      "\u001b[1;31mNameError\u001b[0m: name 'graph' is not defined"
     ]
    },
    {
     "data": {
      "image/png": "[encoded data removed]",
      "text/plain": [
       "<Figure size 640x480 with 1 Axes>"
      ]
     },
     "metadata": {},
     "output_type": "display_data"
    }
   ],
   "source": [
    "subax1 = plt.subplot(121)\n",
    "nx.draw(graph, with_labels=True)\n",
    "# subax2 = plt.subplot(122)\n",
    "# nx.draw_shell(graph, with_labels=False)"
   ]
  },
  {
   "cell_type": "code",
   "execution_count": 11,
   "id": "96663899",
   "metadata": {},
   "outputs": [],
   "source": [
    "def alone_no(graph,primary):\n",
    "    a=[]\n",
    "    for i in (graph.nodes()-primary): #list subtraction\n",
    "        if len(graph.adj[i])==0:\n",
    "            a.append(i)\n",
    "    return len(a)\n",
    "\n",
    "def alone_list(graph):\n",
    "    a=[]\n",
    "    for i in graph.nodes():\n",
    "        if len(graph.adj[i])==0:\n",
    "            a.append(i)\n",
    "    return a\n",
    "\n",
    "def not_alone_no(graph,primary):\n",
    "    a=[]\n",
    "    for i in (graph.nodes()-primary): #list subtraction\n",
    "        if len(graph.adj[i])!=0:\n",
    "            a.append(i)\n",
    "    return len(a)\n",
    "def is_alone(graph,primary):#add recursion \n",
    "    a=[]\n",
    "    for i in (graph.nodes()-primary): #list subtraction\n",
    "        if len(graph.adj[i])==0:\n",
    "            a.append(i)\n",
    "    return a\n",
    "#write recursion function that remembers the neighbors before the node is removed"
   ]
  },
  {
   "cell_type": "code",
   "execution_count": 15,
   "id": "5939e624",
   "metadata": {},
   "outputs": [],
   "source": [
    "def recursion(graph,graph2,set):\n",
    "    remove_set=[] #set of nodes that will go extinct\n",
    "    for a in set: \n",
    "        for n in graph2.adj[a]:#loop over list of incoming neighbours\n",
    "            if len(graph.adj[n])==1: #if the neighbour only feeds on the node we want to remove then add it to the exticnt list\n",
    "                remove_set.append(n)    \n",
    "        if len(remove_set)!=0: #repeat the process through the nodes we will remove to check if others are also affected\n",
    "            remove_set.append(recursion(graph,graph2,remove_set))\n",
    "        graph.remove_node(a)\n",
    "    return remove_set"
   ]
  },
  {
   "cell_type": "code",
   "execution_count": 34,
   "id": "f9fe5cf3",
   "metadata": {},
   "outputs": [],
   "source": [
    "#obtain two graphs with complementary deffinitions of edges\n",
    "\n",
    "graph=nx.DiGraph()\n",
    "for n in data4_BSQ['SpeciesID']:\n",
    "    graph.add_node(n)\n",
    "for n in range(len(data5_BSQ['ResourceSpeciesID'])):\n",
    "    graph.add_edge(data5_BSQ['ConsumerSpeciesID'][n],data5_BSQ['ResourceSpeciesID'][n])\n",
    "    \n",
    "\n",
    "graph_inverted=nx.DiGraph()\n",
    "for n in data4_BSQ['SpeciesID']:\n",
    "    graph_inverted.add_node(n)\n",
    "for n in range(len(data5_BSQ['ResourceSpeciesID'])):\n",
    "    graph_inverted.add_edge(data5_BSQ['ResourceSpeciesID'][n],data5_BSQ['ConsumerSpeciesID'][n])\n",
    "        \n",
    "   \n"
   ]
  },
  {
   "cell_type": "code",
   "execution_count": 35,
   "id": "c68fa645",
   "metadata": {},
   "outputs": [
    {
     "ename": "NetworkXError",
     "evalue": "The node 21 is not in the digraph.",
     "output_type": "error",
     "traceback": [
      "\u001b[1;31m---------------------------------------------------------------------------\u001b[0m",
      "\u001b[1;31mKeyError\u001b[0m                                  Traceback (most recent call last)",
      "File \u001b[1;32mc:\\Users\\20210828\\AppData\\Local\\Programs\\Python\\Python310\\lib\\site-packages\\networkx\\classes\\digraph.py:567\u001b[0m, in \u001b[0;36mDiGraph.remove_node\u001b[1;34m(self, n)\u001b[0m\n\u001b[0;32m    566\u001b[0m \u001b[39mtry\u001b[39;00m:\n\u001b[1;32m--> 567\u001b[0m     nbrs \u001b[39m=\u001b[39m \u001b[39mself\u001b[39;49m\u001b[39m.\u001b[39;49m_succ[n]\n\u001b[0;32m    568\u001b[0m     \u001b[39mdel\u001b[39;00m \u001b[39mself\u001b[39m\u001b[39m.\u001b[39m_node[n]\n",
      "\u001b[1;31mKeyError\u001b[0m: 21",
      "\nThe above exception was the direct cause of the following exception:\n",
      "\u001b[1;31mNetworkXError\u001b[0m                             Traceback (most recent call last)",
      "Cell \u001b[1;32mIn[35], line 11\u001b[0m\n\u001b[0;32m      9\u001b[0m         set1\u001b[39m=\u001b[39mis_alone(graph,primary)\n\u001b[0;32m     10\u001b[0m         graph\u001b[39m.\u001b[39mremove_nodes_from(\u001b[39mlist\u001b[39m(\u001b[39mfilter\u001b[39m(\u001b[39mNone\u001b[39;00m,recursion(graph,graph_inverted,set1))))\n\u001b[1;32m---> 11\u001b[0m         graph_inverted\u001b[39m.\u001b[39mremove_nodes_from(\u001b[39mlist\u001b[39m(\u001b[39mfilter\u001b[39m(\u001b[39mNone\u001b[39;00m,recursion(graph,graph_inverted,set1))))\n\u001b[0;32m     12\u001b[0m         alone_no\u001b[39m.\u001b[39mappend(not_alone_no(graph,primary))\n\u001b[0;32m     14\u001b[0m plt\u001b[39m.\u001b[39mplot(alone_no)\n",
      "Cell \u001b[1;32mIn[15], line 9\u001b[0m, in \u001b[0;36mrecursion\u001b[1;34m(graph, graph2, set)\u001b[0m\n\u001b[0;32m      7\u001b[0m     \u001b[39mif\u001b[39;00m \u001b[39mlen\u001b[39m(remove_set)\u001b[39m!=\u001b[39m\u001b[39m0\u001b[39m: \u001b[39m#repeat the process through the nodes we will remove to check if others are also affected\u001b[39;00m\n\u001b[0;32m      8\u001b[0m         remove_set\u001b[39m.\u001b[39mappend(recursion(graph,graph2,remove_set))\n\u001b[1;32m----> 9\u001b[0m     graph\u001b[39m.\u001b[39;49mremove_node(a)\n\u001b[0;32m     10\u001b[0m \u001b[39mreturn\u001b[39;00m remove_set\n",
      "File \u001b[1;32mc:\\Users\\20210828\\AppData\\Local\\Programs\\Python\\Python310\\lib\\site-packages\\networkx\\classes\\digraph.py:570\u001b[0m, in \u001b[0;36mDiGraph.remove_node\u001b[1;34m(self, n)\u001b[0m\n\u001b[0;32m    568\u001b[0m     \u001b[39mdel\u001b[39;00m \u001b[39mself\u001b[39m\u001b[39m.\u001b[39m_node[n]\n\u001b[0;32m    569\u001b[0m \u001b[39mexcept\u001b[39;00m \u001b[39mKeyError\u001b[39;00m \u001b[39mas\u001b[39;00m err:  \u001b[39m# NetworkXError if n not in self\u001b[39;00m\n\u001b[1;32m--> 570\u001b[0m     \u001b[39mraise\u001b[39;00m NetworkXError(\u001b[39mf\u001b[39m\u001b[39m\"\u001b[39m\u001b[39mThe node \u001b[39m\u001b[39m{\u001b[39;00mn\u001b[39m}\u001b[39;00m\u001b[39m is not in the digraph.\u001b[39m\u001b[39m\"\u001b[39m) \u001b[39mfrom\u001b[39;00m \u001b[39merr\u001b[39;00m\n\u001b[0;32m    571\u001b[0m \u001b[39mfor\u001b[39;00m u \u001b[39min\u001b[39;00m nbrs:\n\u001b[0;32m    572\u001b[0m     \u001b[39mdel\u001b[39;00m \u001b[39mself\u001b[39m\u001b[39m.\u001b[39m_pred[u][n]  \u001b[39m# remove all edges n-u in digraph\u001b[39;00m\n",
      "\u001b[1;31mNetworkXError\u001b[0m: The node 21 is not in the digraph."
     ]
    }
   ],
   "source": [
    "to_remove=sample(data4_BSQ['SpeciesID'].tolist(),len(data4_BSQ))    \n",
    "alone_no=[]\n",
    "primary=alone_list(graph)\n",
    "original_nodes=set(graph.nodes())\n",
    "for elem in (set(to_remove)-(original_nodes-set(graph.nodes()))):\n",
    "    if elem in graph.nodes():\n",
    "        graph.remove_node(elem)\n",
    "        graph_inverted.remove_node(elem)\n",
    "        set1=is_alone(graph,primary)\n",
    "        graph.remove_nodes_from(list(filter(None,recursion(graph,graph_inverted,set1))))\n",
    "        graph_inverted.remove_nodes_from(list(filter(None,recursion(graph,graph_inverted,set1))))\n",
    "        alone_no.append(not_alone_no(graph,primary))\n",
    "\n",
    "plt.plot(alone_no)"
   ]
  },
  {
   "cell_type": "code",
   "execution_count": null,
   "id": "7f35d2fd",
   "metadata": {},
   "outputs": [
    {
     "data": {
      "text/plain": [
       "[<matplotlib.lines.Line2D at 0x157b5c1bc10>]"
      ]
     },
     "execution_count": 49,
     "metadata": {},
     "output_type": "execute_result"
    },
    {
     "data": {
      "image/png": "[encoded data removed]",
      "text/plain": [
       "<Figure size 640x480 with 1 Axes>"
      ]
     },
     "metadata": {},
     "output_type": "display_data"
    }
   ],
   "source": [
    "#obtaining number of species that are not extinct (y), by total number of ar\n",
    "\n",
    "graph=nx.DiGraph()\n",
    "for n in data4_BSQ['SpeciesID']:\n",
    "    graph.add_node(n)\n",
    "for n in range(len(data5_BSQ['ResourceSpeciesID'])):\n",
    "    graph.add_edge(data5_BSQ['ConsumerSpeciesID'][n],data5_BSQ['ResourceSpeciesID'][n])\n",
    "\n",
    "to_remove=sample(data4_BSQ['SpeciesID'].tolist(),len(data4_BSQ))        \n",
    "\n",
    "\n",
    "    \n",
    "not_alone_prop=[]\n",
    "primary=alone_list(graph)\n",
    "for elem in to_remove:\n",
    "    graph.remove_node(elem)\n",
    "    not_alone_prop.append(not_alone_no(graph,primary)/(len(graph.nodes())+1))\n",
    "    \n",
    "\n",
    "\n",
    "plt.plot(not_alone_prop)"
   ]
  },
  {
   "cell_type": "code",
   "execution_count": null,
   "id": "413c0526",
   "metadata": {},
   "outputs": [],
   "source": [
    "def recursion2(graph,set): #for few simple, specific undirected simplifications of directed graphs\n",
    "    remove_set=[]#set of nodes that will go extinct\n",
    "    for a in set:\n",
    "        neigh=graph.adj[a]\n",
    "        for n in neigh:\n",
    "            if len(graph.adj[n])==1: #if the neighbor is only connected to the node we want to remove then add it to the exticnt list\n",
    "                remove_set.append(n)    \n",
    "        if len(remove_set)!=0: #repeat the process through the nodes we will remove to check if others are also affected\n",
    "            remove_set.append(recursion2(graph,remove_set))\n",
    "    return remove_set"
   ]
  },
  {
   "cell_type": "code",
   "execution_count": null,
   "id": "46ed7125",
   "metadata": {},
   "outputs": [
    {
     "ename": "NameError",
     "evalue": "name 'nx' is not defined",
     "output_type": "error",
     "traceback": [
      "\u001b[1;31m---------------------------------------------------------------------------\u001b[0m",
      "\u001b[1;31mNameError\u001b[0m                                 Traceback (most recent call last)",
      "Cell \u001b[1;32mIn[2], line 1\u001b[0m\n\u001b[1;32m----> 1\u001b[0m graph2\u001b[39m=\u001b[39mnx\u001b[39m.\u001b[39mDiGraph()\n\u001b[0;32m      2\u001b[0m graph2\u001b[39m.\u001b[39madd_nodes_from([\u001b[39m1\u001b[39m,\u001b[39m2\u001b[39m,\u001b[39m3\u001b[39m,\u001b[39m4\u001b[39m,\u001b[39m5\u001b[39m])\n\u001b[0;32m      3\u001b[0m graph2\u001b[39m.\u001b[39madd_edges_from([[\u001b[39m2\u001b[39m,\u001b[39m1\u001b[39m],[\u001b[39m3\u001b[39m,\u001b[39m1\u001b[39m],[\u001b[39m4\u001b[39m,\u001b[39m1\u001b[39m],[\u001b[39m4\u001b[39m,\u001b[39m5\u001b[39m]])\n",
      "\u001b[1;31mNameError\u001b[0m: name 'nx' is not defined"
     ]
    }
   ],
   "source": [
    "graph2=nx.DiGraph()\n",
    "graph2.add_nodes_from([1,2,3,4,5])\n",
    "graph2.add_edges_from([[2,1],[3,1],[4,1],[4,5]])"
   ]
  },
  {
   "cell_type": "code",
   "execution_count": null,
   "id": "e456c681",
   "metadata": {},
   "outputs": [],
   "source": [
    "to_remove=sample(data4_BSQ['SpeciesID'].tolist(),len(data4_BSQ))            \n",
    "   \n",
    "alone=[]\n",
    "primary=alone_list(graph)\n",
    "for elem in to_remove:\n",
    "    if elem in graph.nodes():\n",
    "        graph.remove_node(elem)\n",
    "        alone.append(not_alone_no(graph,primary))\n",
    "        graph.remove_nodes_from(is_alone(graph))"
   ]
  },
  {
   "cell_type": "code",
   "execution_count": null,
   "id": "e934e56d",
   "metadata": {},
   "outputs": [
    {
     "data": {
      "text/plain": [
       "AtlasView({24: {}, 25: {}, 26: {}, 29: {}, 34: {}, 35: {}, 36: {}, 37: {}, 38: {}, 39: {}, 40: {}, 41: {}, 42: {}, 43: {}, 45: {}, 53: {}, 66: {}, 77: {}, 79: {}, 88: {}, 89: {}, 91: {}, 96: {}, 97: {}, 98: {}, 101: {}, 103: {}, 105: {}, 107: {}, 108: {}, 109: {}, 86: {}, 90: {}, 94: {}, 111: {}, 114: {}, 119: {}, 136: {}, 138: {}, 211: {}})"
      ]
     },
     "execution_count": 46,
     "metadata": {},
     "output_type": "execute_result"
    }
   ],
   "source": [
    "graph.adj[209]\n",
    "#graph_inverted.adj[209]"
   ]
  },
  {
   "cell_type": "code",
   "execution_count": null,
   "id": "4f0f3640",
   "metadata": {},
   "outputs": [
    {
     "data": {
      "text/plain": [
       "[4,\n",
       " 6,\n",
       " 7,\n",
       " 8,\n",
       " 10,\n",
       " 11,\n",
       " 12,\n",
       " 14,\n",
       " 15,\n",
       " 16,\n",
       " 17,\n",
       " 18,\n",
       " 19,\n",
       " 20,\n",
       " 21,\n",
       " 24,\n",
       " 25,\n",
       " 26,\n",
       " 29,\n",
       " 34,\n",
       " 35,\n",
       " 36,\n",
       " 37,\n",
       " 38,\n",
       " 39,\n",
       " 40,\n",
       " 41,\n",
       " 42,\n",
       " 43,\n",
       " 45,\n",
       " 47,\n",
       " 48,\n",
       " 53,\n",
       " 54,\n",
       " 66,\n",
       " 75,\n",
       " 76,\n",
       " 77,\n",
       " 79,\n",
       " 82,\n",
       " 86,\n",
       " 88,\n",
       " 89,\n",
       " 90,\n",
       " 91,\n",
       " 92,\n",
       " 94,\n",
       " 96,\n",
       " 97,\n",
       " 98,\n",
       " 100,\n",
       " 101,\n",
       " 103,\n",
       " 104,\n",
       " 105,\n",
       " 107,\n",
       " 108,\n",
       " 109,\n",
       " 110,\n",
       " 111,\n",
       " 114,\n",
       " 118,\n",
       " 119,\n",
       " 121,\n",
       " 122,\n",
       " 125,\n",
       " 128,\n",
       " 130,\n",
       " 131,\n",
       " 134,\n",
       " 136,\n",
       " 137,\n",
       " 138,\n",
       " 140,\n",
       " 145,\n",
       " 146,\n",
       " 147,\n",
       " 148,\n",
       " 152,\n",
       " 153,\n",
       " 156,\n",
       " 157,\n",
       " 158,\n",
       " 160,\n",
       " 162,\n",
       " 163,\n",
       " 164,\n",
       " 165,\n",
       " 166,\n",
       " 167,\n",
       " 168,\n",
       " 169,\n",
       " 171,\n",
       " 172,\n",
       " 175,\n",
       " 176,\n",
       " 178,\n",
       " 179,\n",
       " 181,\n",
       " 185,\n",
       " 186,\n",
       " 187,\n",
       " 188,\n",
       " 189,\n",
       " 190,\n",
       " 191,\n",
       " 192,\n",
       " 193,\n",
       " 196,\n",
       " 198,\n",
       " 203,\n",
       " 206,\n",
       " 207,\n",
       " 208,\n",
       " 209,\n",
       " 211]"
      ]
     },
     "execution_count": 75,
     "metadata": {},
     "output_type": "execute_result"
    }
   ],
   "source": [
    "list(graph.nodes())"
   ]
  },
  {
   "cell_type": "code",
   "execution_count": 8,
   "id": "3c2aef9f",
   "metadata": {},
   "outputs": [
    {
     "data": {
      "text/plain": [
       "set()"
      ]
     },
     "execution_count": 8,
     "metadata": {},
     "output_type": "execute_result"
    }
   ],
   "source": [
    "set(graph_inverted.nodes())-set(graph.nodes())"
   ]
  },
  {
   "cell_type": "code",
   "execution_count": null,
   "id": "3a02a3c4",
   "metadata": {},
   "outputs": [],
   "source": []
  }
 ],
 "metadata": {
  "kernelspec": {
   "display_name": "Python 3 (ipykernel)",
   "language": "python",
   "name": "python3"
  },
  "language_info": {
   "codemirror_mode": {
    "name": "ipython",
    "version": 3
   },
   "file_extension": ".py",
   "mimetype": "text/x-python",
   "name": "python",
   "nbconvert_exporter": "python",
   "pygments_lexer": "ipython3",
   "version": "3.10.7"
  }
 },
 "nbformat": 4,
 "nbformat_minor": 5
}
