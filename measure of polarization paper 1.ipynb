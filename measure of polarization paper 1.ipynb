{
 "cells": [
  {
   "cell_type": "code",
   "execution_count": 1,
   "id": "38f46d47",
   "metadata": {},
   "outputs": [],
   "source": [
    "import networkx as nx\n",
    "from networkx.algorithms import community\n",
    "from pyvis.network import Network\n",
    "import math\n",
    "import numpy as np"
   ]
  },
  {
   "cell_type": "code",
   "execution_count": 2,
   "id": "88ab54dc",
   "metadata": {},
   "outputs": [],
   "source": [
    "### Function to check condition 1: if node has atleast 1 edge connecting to the other community it is not part of\n",
    "#   pre-condition( 1. graph has only 2 communities\n",
    "#                   2. n is a node in the graph)  \n",
    "###\n",
    "def cond1(n, model_graph, communities):\n",
    "    for b in (0,1):\n",
    "        # loops though neighbours of node n\n",
    "        for a in list(model_graph.adj[n]):\n",
    "            # checks if neighbour is of a different community\n",
    "            if n in communities[b] and not(a in communities[b]):\n",
    "                return True\n",
    "    return False"
   ]
  },
  {
   "cell_type": "code",
   "execution_count": 3,
   "id": "5f879afd",
   "metadata": {},
   "outputs": [],
   "source": [
    "### Function to check condition 2: if node is connected to atleast one internal node of its community\n",
    "#   pre-condition( 1. graph has only 2 communities\n",
    "#                   2. n is a node in the graph)\n",
    "###\n",
    "def cond2(n, model_graph, communities):\n",
    "    for k in (0,1):\n",
    "        # loops over neighbours of node n\n",
    "        for a in list(model_graph.adj[n]):\n",
    "            m=0 # counts neighbours from a different community\n",
    "            # checks if neighbour is part of same community\n",
    "            if (a in communities[k] and n in communities[k]):\n",
    "                # loops over neighbours of the neighbour node a\n",
    "                for b in list(model_graph.adj[a]):\n",
    "                    # checks if node a is an internal node\n",
    "                    if not(b in communities[k]):\n",
    "                        # increment since node a is conected to the other community(not an internal node)\n",
    "                        m+=1\n",
    "                if m==0:\n",
    "                    # returns when first internal neighbour node found\n",
    "                    return True\n",
    "    return False"
   ]
  },
  {
   "cell_type": "code",
   "execution_count": 4,
   "id": "468b3d80",
   "metadata": {},
   "outputs": [],
   "source": [
    "### Sorts boundary and internal nodes from each community and returns 2 lists.\n",
    "#   pre-condition( graph has only 2 communities)\n",
    "###\n",
    "def node_sets(communities,graph):\n",
    "    boundary1=[] # stores boundary nodes of community 1\n",
    "    boundary2=[] # stores boundary nodes of community 2\n",
    "    for n in nx.nodes(graph):\n",
    "        # checks if both conditions for node to be boundary node is satisfied\n",
    "        if cond1(n, graph, communities) and cond2(n,graph, communities):\n",
    "            if n in communities[0]:                \n",
    "                boundary1.append(n)\n",
    "            else: # if n in communities[1]:\n",
    "                boundary2.append(n)\n",
    "    boundary=[boundary1,boundary2]\n",
    "    internal=[list(communities[0]),list(communities[1])]\n",
    "    # removes list of boundary node from internal node\n",
    "    # internal nodes I_i formula: I_i = G_i - B_i\n",
    "    for a in range(0,1):\n",
    "        # loops over nodes in community\n",
    "        for n in communities[a]:\n",
    "            # checks if the particular node also appears in set of boundary nodes for the same community\n",
    "            if n in boundary[a]:\n",
    "                internal[a].remove(n)\n",
    "    return boundary, internal"
   ]
  },
  {
   "cell_type": "code",
   "execution_count": 5,
   "id": "b6596d10",
   "metadata": {},
   "outputs": [],
   "source": [
    "### Sorts boundary and internal edges from each community and returns 2 lists.\n",
    "#   pre-condition( 1. graph has only 2 communities\n",
    "#                   2. bound and internal are sets of nodes in the graph)\n",
    "###\n",
    "def edges_sets(bound, internal, graph):\n",
    "   \n",
    "    eb=[] # distinct edges between boundary nodes\n",
    "    # edges of community 1\n",
    "    for n in range(len(bound[0])):\n",
    "        sub_b=[]\n",
    "        # loop over neighbours of node n\n",
    "        for neigh in list(graph.adj[bound[0][n]]):\n",
    "            if neigh in bound[1]:\n",
    "                # adds edges linked to neighbours from different community\n",
    "                sub_b.append([bound[0][n],neigh])\n",
    "        eb.append(sub_b)\n",
    "    # edges of community 2\n",
    "    for n in range(len(bound[1])):\n",
    "        sub_b=[]\n",
    "        for neigh in list(graph.adj[bound[1][n]]):\n",
    "            if neigh in bound[0]:\n",
    "                sub_b.append([bound[1][n],neigh])\n",
    "        eb.append(sub_b)\n",
    "    \n",
    "    eint=[] # distinct edges between internal nodes\n",
    "    # edges of community 1\n",
    "    for n in range(len(bound[0])):\n",
    "        sub_int=[]\n",
    "        for neigh in list(graph.adj[bound[0][n]]):\n",
    "            if (neigh in internal[0]) or (neigh in internal[1]):\n",
    "                sub_int.append([bound[0][n],neigh])  \n",
    "        eint.append(sub_int)\n",
    "    # edges of community 2\n",
    "    for n in range(len(bound[1])):\n",
    "        sub_int=[]\n",
    "        for neigh in list(graph.adj[bound[1][n]]):\n",
    "            if (neigh in internal[0]) or (neigh in internal[1]):\n",
    "                sub_int.append([bound[1][n],neigh])  \n",
    "        eint.append(sub_int)\n",
    "    return eb, eint"
   ]
  },
  {
   "cell_type": "code",
   "execution_count": 6,
   "id": "ddfc6929",
   "metadata": {},
   "outputs": [],
   "source": [
    "### Computes P value from formula. \n",
    "###\n",
    "def p_value(boundary,e_bound,e_inter):\n",
    "    mixed_bound=[]\n",
    "    mixed_bound.extend(boundary[0])\n",
    "    mixed_bound.extend(boundary[1])\n",
    "    abs_b=len(mixed_bound)\n",
    "    sum=0\n",
    "    for n in range(len(mixed_bound)):\n",
    "        sum=sum-0.5+len(e_inter[n])/(len(e_inter[n])+len(e_bound[n]))\n",
    "    p_value=sum/abs_b\n",
    "    return p_value"
   ]
  },
  {
   "cell_type": "code",
   "execution_count": 7,
   "id": "7d474d43",
   "metadata": {},
   "outputs": [
    {
     "ename": "TypeError",
     "evalue": "naive_greedy_modularity_communities() got an unexpected keyword argument 'resolution'",
     "output_type": "error",
     "traceback": [
      "\u001b[1;31m---------------------------------------------------------------------------\u001b[0m",
      "\u001b[1;31mTypeError\u001b[0m                                 Traceback (most recent call last)",
      "\u001b[1;32m<ipython-input-7-c88d99e8ca6f>\u001b[0m in \u001b[0;36m<module>\u001b[1;34m\u001b[0m\n\u001b[0;32m      2\u001b[0m \u001b[0mmodel_graph\u001b[0m \u001b[1;33m=\u001b[0m \u001b[0mnx\u001b[0m\u001b[1;33m.\u001b[0m\u001b[0mkarate_club_graph\u001b[0m\u001b[1;33m(\u001b[0m\u001b[1;33m)\u001b[0m\u001b[1;33m\u001b[0m\u001b[1;33m\u001b[0m\u001b[0m\n\u001b[0;32m      3\u001b[0m \u001b[1;31m# create the 2 communities based on modularity/resolution mentioned in the paper(0.35)?\u001b[0m\u001b[1;33m\u001b[0m\u001b[1;33m\u001b[0m\u001b[1;33m\u001b[0m\u001b[0m\n\u001b[1;32m----> 4\u001b[1;33m \u001b[0mcommunities\u001b[0m \u001b[1;33m=\u001b[0m \u001b[0mcommunity\u001b[0m\u001b[1;33m.\u001b[0m\u001b[0mnaive_greedy_modularity_communities\u001b[0m\u001b[1;33m(\u001b[0m\u001b[0mmodel_graph\u001b[0m\u001b[1;33m,\u001b[0m \u001b[0mresolution\u001b[0m\u001b[1;33m=\u001b[0m\u001b[1;36m0.3\u001b[0m\u001b[1;33m)\u001b[0m\u001b[1;33m\u001b[0m\u001b[1;33m\u001b[0m\u001b[0m\n\u001b[0m\u001b[0;32m      5\u001b[0m \u001b[1;31m# sorts boundary nodes and internal nodes\u001b[0m\u001b[1;33m\u001b[0m\u001b[1;33m\u001b[0m\u001b[1;33m\u001b[0m\u001b[0m\n\u001b[0;32m      6\u001b[0m \u001b[1;33m[\u001b[0m\u001b[0mboundary\u001b[0m\u001b[1;33m,\u001b[0m\u001b[0minternal\u001b[0m\u001b[1;33m]\u001b[0m\u001b[1;33m=\u001b[0m\u001b[0mnode_sets\u001b[0m\u001b[1;33m(\u001b[0m\u001b[0mcommunities\u001b[0m\u001b[1;33m,\u001b[0m\u001b[0mmodel_graph\u001b[0m\u001b[1;33m)\u001b[0m\u001b[1;33m\u001b[0m\u001b[1;33m\u001b[0m\u001b[0m\n",
      "\u001b[1;31mTypeError\u001b[0m: naive_greedy_modularity_communities() got an unexpected keyword argument 'resolution'"
     ]
    }
   ],
   "source": [
    "# create karate club graph\n",
    "model_graph = nx.karate_club_graph()\n",
    "# create the 2 communities based on modularity/resolution mentioned in the paper(0.35)?\n",
    "communities = community.naive_greedy_modularity_communities(model_graph, resolution=0.3)\n",
    "# sorts boundary nodes and internal nodes\n",
    "[boundary,internal]=node_sets(communities,model_graph)\n",
    "[e_bound,e_inter]=edges_sets(boundary,internal,model_graph)\n",
    "P=p_value(boundary,e_bound,e_inter)\n",
    "print(P)\n"
   ]
  },
  {
   "cell_type": "code",
   "execution_count": null,
   "id": "4bbe36a2",
   "metadata": {},
   "outputs": [],
   "source": []
  }
 ],
 "metadata": {
  "kernelspec": {
   "display_name": "Python 3",
   "language": "python",
   "name": "python3"
  },
  "language_info": {
   "codemirror_mode": {
    "name": "ipython",
    "version": 3
   },
   "file_extension": ".py",
   "mimetype": "text/x-python",
   "name": "python",
   "nbconvert_exporter": "python",
   "pygments_lexer": "ipython3",
   "version": "3.8.8"
  },
  "vscode": {
   "interpreter": {
    "hash": "c56527485b7c9dd36c8c8808345694ae9d0a642c0f00dfb6356f9a65494ceb50"
   }
  }
 },
 "nbformat": 4,
 "nbformat_minor": 5
}
