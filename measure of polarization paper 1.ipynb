{
 "cells": [
  {
   "cell_type": "code",
   "execution_count": 14,
   "id": "38f46d47",
   "metadata": {},
   "outputs": [],
   "source": [
    "import networkx as nx\n",
    "from networkx.algorithms import community\n",
    "from pyvis.network import Network\n",
    "import math\n",
    "import numpy as np"
   ]
  },
  {
   "cell_type": "code",
   "execution_count": 38,
   "id": "88ab54dc",
   "metadata": {},
   "outputs": [],
   "source": [
    "def cond1(n, model_graph, communities):\n",
    "    for b in (0,1):\n",
    "        for a in list(model_graph.adj[n]):\n",
    "            if n in communities[b] and not(a in communities[b]):\n",
    "                return True\n",
    "    return False"
   ]
  },
  {
   "cell_type": "code",
   "execution_count": 39,
   "id": "5f879afd",
   "metadata": {},
   "outputs": [],
   "source": [
    "def cond2(n, model_graph, communities):\n",
    "    for k in (0,1):\n",
    "        for a in list(model_graph.adj[n]):\n",
    "            m=0\n",
    "            if (a in communities[k] and n in communities[k]):\n",
    "                for b in list(model_graph.adj[a]):\n",
    "                    if not(b in communities[k]):\n",
    "                        m+=1\n",
    "                if m==0:\n",
    "                    return True\n",
    "    return False"
   ]
  },
  {
   "cell_type": "code",
   "execution_count": 40,
   "id": "468b3d80",
   "metadata": {},
   "outputs": [],
   "source": [
    "def node_sets(communities,graph):\n",
    "    boundary1=[]\n",
    "    boundary2=[]\n",
    "    for n in nx.nodes(graph):\n",
    "        if cond1(n, graph, communities) and cond2(n,graph, communities):\n",
    "            if n in communities[0]:\n",
    "                boundary1.append(n)\n",
    "            if n in communities[1]:\n",
    "                boundary2.append(n)\n",
    "    boundary=[boundary1,boundary2]\n",
    "    internal=[list(communities[0]),list(communities[1])]\n",
    "    for a in range(0,1):\n",
    "        for n in communities[a]:\n",
    "            if n in boundary[a]:\n",
    "                internal[a].remove(n)\n",
    "    return boundary, internal"
   ]
  },
  {
   "cell_type": "code",
   "execution_count": 56,
   "id": "b6596d10",
   "metadata": {},
   "outputs": [],
   "source": [
    "def edges_sets(bound, internal, graph):\n",
    "   \n",
    "    eb=[]\n",
    "    for n in range(len(bound[0])):\n",
    "        sub_b=[]\n",
    "        for neigh in list(graph.adj[bound[0][n]]):\n",
    "            if neigh in bound[1]:\n",
    "                sub_b.append([bound[0][n],neigh])\n",
    "        eb.append(sub_b)\n",
    "\n",
    "    for n in range(len(bound[1])):\n",
    "        sub_b=[]\n",
    "        for neigh in list(graph.adj[bound[1][n]]):\n",
    "            if neigh in bound[0]:\n",
    "                sub_b.append([bound[1][n],neigh])\n",
    "        eb.append(sub_b)\n",
    "    \n",
    "    eint=[]\n",
    "    for n in range(len(bound[0])):\n",
    "        sub_int=[]\n",
    "        for neigh in list(graph.adj[bound[0][n]]):\n",
    "            if (neigh in internal[0]) or (neigh in internal[1]):\n",
    "                sub_int.append([bound[0][n],neigh])  \n",
    "        eint.append(sub_int)\n",
    "\n",
    "    for n in range(len(bound[1])):\n",
    "        sub_int=[]\n",
    "        for neigh in list(graph.adj[bound[1][n]]):\n",
    "            if (neigh in internal[0]) or (neigh in internal[1]):\n",
    "                sub_int.append([bound[1][n],neigh])  \n",
    "        eint.append(sub_int)\n",
    "    return eb, eint"
   ]
  },
  {
   "cell_type": "code",
   "execution_count": 62,
   "id": "ddfc6929",
   "metadata": {},
   "outputs": [],
   "source": [
    "def p_value(boundary,e_bound,e_inter):\n",
    "    mixed_bound=[]\n",
    "    mixed_bound.extend(boundary[0])\n",
    "    mixed_bound.extend(boundary[1])\n",
    "    abs_b=len(mixed_bound)\n",
    "    sum=0\n",
    "    for n in range(len(mixed_bound)):\n",
    "        sum=sum-0.5+len(e_inter[n])/(len(e_inter[n])+len(e_bound[n]))\n",
    "    p_value=sum/abs_b\n",
    "    return p_value"
   ]
  },
  {
   "cell_type": "code",
   "execution_count": 74,
   "id": "7d474d43",
   "metadata": {},
   "outputs": [
    {
     "name": "stdout",
     "output_type": "stream",
     "text": [
      "0.2962962962962963\n"
     ]
    }
   ],
   "source": [
    "model_graph = nx.karate_club_graph()\n",
    "\n",
    "communities=community.naive_greedy_modularity_communities(model_graph, resolution=0.3)\n",
    "\n",
    "[boundary,internal]=node_sets(communities,model_graph)\n",
    "[e_bound,e_inter]=edges_sets(boundary,internal,model_graph)\n",
    "P=p_value(boundary,e_bound,e_inter)\n",
    "print(P)\n"
   ]
  }
 ],
 "metadata": {
  "kernelspec": {
   "display_name": "Python 3.10.7 64-bit",
   "language": "python",
   "name": "python3"
  },
  "language_info": {
   "codemirror_mode": {
    "name": "ipython",
    "version": 3
   },
   "file_extension": ".py",
   "mimetype": "text/x-python",
   "name": "python",
   "nbconvert_exporter": "python",
   "pygments_lexer": "ipython3",
   "version": "3.10.7"
  },
  "vscode": {
   "interpreter": {
    "hash": "41b6b3a22a4f99e6c28d52ba133a95bf7a61534c24d85becebb89b0975d0c287"
   }
  }
 },
 "nbformat": 4,
 "nbformat_minor": 5
}
