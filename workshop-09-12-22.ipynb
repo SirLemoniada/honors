{
 "cells": [
  {
   "cell_type": "code",
   "execution_count": null,
   "id": "dbe25f64",
   "metadata": {},
   "outputs": [],
   "source": [
    "import networkx as nx\n",
    "from pyvis.network import Network\n",
    "import numpy as np\n",
    "import matplotlib.pyplot as plt"
   ]
  },
  {
   "cell_type": "code",
   "execution_count": null,
   "id": "4686bb7a",
   "metadata": {},
   "outputs": [],
   "source": [
    "def argmax(G):\n",
    "    mod_matrix=nx.modularity_matrix(G)\n",
    "    global_max=[-10000000,-1]\n",
    "    eigenvals=np.linalg.eig(mod_matrix)[0]\n",
    "    sorted_eig=sorted(eigenvals)[::-1]\n",
    "\n",
    "    for i in range(1,len(sorted_eig)):\n",
    "        if (sorted_eig[i-1]-sorted_eig[i])>global_max[0]:\n",
    "            global_max[0]=sorted_eig[i-1]-sorted_eig[i]\n",
    "            global_max[1]=i\n",
    "    return global_max[1]+1"
   ]
  },
  {
   "cell_type": "code",
   "execution_count": null,
   "id": "891a2471",
   "metadata": {},
   "outputs": [],
   "source": [
    "p_list=[0.005,0.01,0.015,0.02,0.025]"
   ]
  },
  {
   "cell_type": "markdown",
   "id": "324bd5d1",
   "metadata": {},
   "source": [
    "# stochastic block model"
   ]
  },
  {
   "cell_type": "code",
   "execution_count": null,
   "id": "e1d1a55d",
   "metadata": {},
   "outputs": [],
   "source": [
    "def stoch(sizes,diff,c,expected=7):\n",
    "    N=sum(sizes)\n",
    "    b_out=expected-diff/c\n",
    "    b_in=b_out+diff\n",
    "\n",
    "    p_in=b_in/N\n",
    "    p_out=b_out/N\n",
    "\n",
    "\n",
    "    zeros=np.zeros(c**2)\n",
    "    p=np.matrix([zeros])\n",
    "    p=p.reshape(c,c)\n",
    "    p2=[]\n",
    "\n",
    "    for i in range(c):\n",
    "        p2.append([])\n",
    "        for j in range(c):\n",
    "            if i==j:\n",
    "                p2[i].append(p_in)\n",
    "            else:\n",
    "                p2[i].append(p_out)\n",
    "\n",
    "    a=nx.stochastic_block_model(sizes, p2, nodelist=None, seed=None, directed=False, selfloops=False, sparse=True)\n",
    "    s=argmax(a)\n",
    "    return s"
   ]
  },
  {
   "cell_type": "code",
   "execution_count": null,
   "id": "1cc92fb5",
   "metadata": {},
   "outputs": [],
   "source": [
    "sizes=[100,100,100,100,100]\n",
    "diff=19\n",
    "c=5\n",
    "stoch(sizes,diff,c)"
   ]
  },
  {
   "cell_type": "code",
   "execution_count": 1,
   "id": "7e7fd135",
   "metadata": {},
   "outputs": [
    {
     "name": "stdout",
     "output_type": "stream",
     "text": [
      "Roshni is cool\n"
     ]
    }
   ],
   "source": [
    "print('Roshni is cool')"
   ]
  }
 ],
 "metadata": {
  "kernelspec": {
   "display_name": "Python 3",
   "language": "python",
   "name": "python3"
  },
  "language_info": {
   "codemirror_mode": {
    "name": "ipython",
    "version": 3
   },
   "file_extension": ".py",
   "mimetype": "text/x-python",
   "name": "python",
   "nbconvert_exporter": "python",
   "pygments_lexer": "ipython3",
   "version": "3.10.6"
  },
  "vscode": {
   "interpreter": {
    "hash": "31f2aee4e71d21fbe5cf8b01ff0e069b9275f58929596ceb00d14d90e3e16cd6"
   }
  }
 },
 "nbformat": 4,
 "nbformat_minor": 5
}
